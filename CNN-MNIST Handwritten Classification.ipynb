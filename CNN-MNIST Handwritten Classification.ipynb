{
 "cells": [
  {
   "cell_type": "code",
   "execution_count": 80,
   "source": [
    "import pandas as pd\r\n",
    "import matplotlib.pyplot as plt\r\n",
    "import seaborn as sns\r\n",
    "import numpy as np"
   ],
   "outputs": [],
   "metadata": {}
  },
  {
   "cell_type": "code",
   "execution_count": 81,
   "source": [
    "from keras.datasets.mnist import load_data"
   ],
   "outputs": [],
   "metadata": {}
  },
  {
   "cell_type": "code",
   "execution_count": 82,
   "source": [
    "(train_data,train_labels),(test_data,test_labels)=load_data()"
   ],
   "outputs": [],
   "metadata": {}
  },
  {
   "cell_type": "code",
   "execution_count": 83,
   "source": [
    "train_data.shape"
   ],
   "outputs": [
    {
     "output_type": "execute_result",
     "data": {
      "text/plain": [
       "(60000, 28, 28)"
      ]
     },
     "metadata": {},
     "execution_count": 83
    }
   ],
   "metadata": {}
  },
  {
   "cell_type": "code",
   "execution_count": 84,
   "source": [
    "test_data.shape"
   ],
   "outputs": [
    {
     "output_type": "execute_result",
     "data": {
      "text/plain": [
       "(10000, 28, 28)"
      ]
     },
     "metadata": {},
     "execution_count": 84
    }
   ],
   "metadata": {}
  },
  {
   "cell_type": "code",
   "execution_count": 85,
   "source": [
    "# Train Data \r\n",
    "train_data[0]"
   ],
   "outputs": [
    {
     "output_type": "execute_result",
     "data": {
      "text/plain": [
       "array([[  0,   0,   0,   0,   0,   0,   0,   0,   0,   0,   0,   0,   0,\n",
       "          0,   0,   0,   0,   0,   0,   0,   0,   0,   0,   0,   0,   0,\n",
       "          0,   0],\n",
       "       [  0,   0,   0,   0,   0,   0,   0,   0,   0,   0,   0,   0,   0,\n",
       "          0,   0,   0,   0,   0,   0,   0,   0,   0,   0,   0,   0,   0,\n",
       "          0,   0],\n",
       "       [  0,   0,   0,   0,   0,   0,   0,   0,   0,   0,   0,   0,   0,\n",
       "          0,   0,   0,   0,   0,   0,   0,   0,   0,   0,   0,   0,   0,\n",
       "          0,   0],\n",
       "       [  0,   0,   0,   0,   0,   0,   0,   0,   0,   0,   0,   0,   0,\n",
       "          0,   0,   0,   0,   0,   0,   0,   0,   0,   0,   0,   0,   0,\n",
       "          0,   0],\n",
       "       [  0,   0,   0,   0,   0,   0,   0,   0,   0,   0,   0,   0,   0,\n",
       "          0,   0,   0,   0,   0,   0,   0,   0,   0,   0,   0,   0,   0,\n",
       "          0,   0],\n",
       "       [  0,   0,   0,   0,   0,   0,   0,   0,   0,   0,   0,   0,   3,\n",
       "         18,  18,  18, 126, 136, 175,  26, 166, 255, 247, 127,   0,   0,\n",
       "          0,   0],\n",
       "       [  0,   0,   0,   0,   0,   0,   0,   0,  30,  36,  94, 154, 170,\n",
       "        253, 253, 253, 253, 253, 225, 172, 253, 242, 195,  64,   0,   0,\n",
       "          0,   0],\n",
       "       [  0,   0,   0,   0,   0,   0,   0,  49, 238, 253, 253, 253, 253,\n",
       "        253, 253, 253, 253, 251,  93,  82,  82,  56,  39,   0,   0,   0,\n",
       "          0,   0],\n",
       "       [  0,   0,   0,   0,   0,   0,   0,  18, 219, 253, 253, 253, 253,\n",
       "        253, 198, 182, 247, 241,   0,   0,   0,   0,   0,   0,   0,   0,\n",
       "          0,   0],\n",
       "       [  0,   0,   0,   0,   0,   0,   0,   0,  80, 156, 107, 253, 253,\n",
       "        205,  11,   0,  43, 154,   0,   0,   0,   0,   0,   0,   0,   0,\n",
       "          0,   0],\n",
       "       [  0,   0,   0,   0,   0,   0,   0,   0,   0,  14,   1, 154, 253,\n",
       "         90,   0,   0,   0,   0,   0,   0,   0,   0,   0,   0,   0,   0,\n",
       "          0,   0],\n",
       "       [  0,   0,   0,   0,   0,   0,   0,   0,   0,   0,   0, 139, 253,\n",
       "        190,   2,   0,   0,   0,   0,   0,   0,   0,   0,   0,   0,   0,\n",
       "          0,   0],\n",
       "       [  0,   0,   0,   0,   0,   0,   0,   0,   0,   0,   0,  11, 190,\n",
       "        253,  70,   0,   0,   0,   0,   0,   0,   0,   0,   0,   0,   0,\n",
       "          0,   0],\n",
       "       [  0,   0,   0,   0,   0,   0,   0,   0,   0,   0,   0,   0,  35,\n",
       "        241, 225, 160, 108,   1,   0,   0,   0,   0,   0,   0,   0,   0,\n",
       "          0,   0],\n",
       "       [  0,   0,   0,   0,   0,   0,   0,   0,   0,   0,   0,   0,   0,\n",
       "         81, 240, 253, 253, 119,  25,   0,   0,   0,   0,   0,   0,   0,\n",
       "          0,   0],\n",
       "       [  0,   0,   0,   0,   0,   0,   0,   0,   0,   0,   0,   0,   0,\n",
       "          0,  45, 186, 253, 253, 150,  27,   0,   0,   0,   0,   0,   0,\n",
       "          0,   0],\n",
       "       [  0,   0,   0,   0,   0,   0,   0,   0,   0,   0,   0,   0,   0,\n",
       "          0,   0,  16,  93, 252, 253, 187,   0,   0,   0,   0,   0,   0,\n",
       "          0,   0],\n",
       "       [  0,   0,   0,   0,   0,   0,   0,   0,   0,   0,   0,   0,   0,\n",
       "          0,   0,   0,   0, 249, 253, 249,  64,   0,   0,   0,   0,   0,\n",
       "          0,   0],\n",
       "       [  0,   0,   0,   0,   0,   0,   0,   0,   0,   0,   0,   0,   0,\n",
       "          0,  46, 130, 183, 253, 253, 207,   2,   0,   0,   0,   0,   0,\n",
       "          0,   0],\n",
       "       [  0,   0,   0,   0,   0,   0,   0,   0,   0,   0,   0,   0,  39,\n",
       "        148, 229, 253, 253, 253, 250, 182,   0,   0,   0,   0,   0,   0,\n",
       "          0,   0],\n",
       "       [  0,   0,   0,   0,   0,   0,   0,   0,   0,   0,  24, 114, 221,\n",
       "        253, 253, 253, 253, 201,  78,   0,   0,   0,   0,   0,   0,   0,\n",
       "          0,   0],\n",
       "       [  0,   0,   0,   0,   0,   0,   0,   0,  23,  66, 213, 253, 253,\n",
       "        253, 253, 198,  81,   2,   0,   0,   0,   0,   0,   0,   0,   0,\n",
       "          0,   0],\n",
       "       [  0,   0,   0,   0,   0,   0,  18, 171, 219, 253, 253, 253, 253,\n",
       "        195,  80,   9,   0,   0,   0,   0,   0,   0,   0,   0,   0,   0,\n",
       "          0,   0],\n",
       "       [  0,   0,   0,   0,  55, 172, 226, 253, 253, 253, 253, 244, 133,\n",
       "         11,   0,   0,   0,   0,   0,   0,   0,   0,   0,   0,   0,   0,\n",
       "          0,   0],\n",
       "       [  0,   0,   0,   0, 136, 253, 253, 253, 212, 135, 132,  16,   0,\n",
       "          0,   0,   0,   0,   0,   0,   0,   0,   0,   0,   0,   0,   0,\n",
       "          0,   0],\n",
       "       [  0,   0,   0,   0,   0,   0,   0,   0,   0,   0,   0,   0,   0,\n",
       "          0,   0,   0,   0,   0,   0,   0,   0,   0,   0,   0,   0,   0,\n",
       "          0,   0],\n",
       "       [  0,   0,   0,   0,   0,   0,   0,   0,   0,   0,   0,   0,   0,\n",
       "          0,   0,   0,   0,   0,   0,   0,   0,   0,   0,   0,   0,   0,\n",
       "          0,   0],\n",
       "       [  0,   0,   0,   0,   0,   0,   0,   0,   0,   0,   0,   0,   0,\n",
       "          0,   0,   0,   0,   0,   0,   0,   0,   0,   0,   0,   0,   0,\n",
       "          0,   0]], dtype=uint8)"
      ]
     },
     "metadata": {},
     "execution_count": 85
    }
   ],
   "metadata": {}
  },
  {
   "cell_type": "code",
   "execution_count": 86,
   "source": [
    "img=train_data[1000]\r\n",
    "plt.imshow(img,cmap='gray')\r\n",
    "plt.title(\"Label: %i\"%train_labels[1000])\r\n",
    "plt.show()"
   ],
   "outputs": [
    {
     "output_type": "display_data",
     "data": {
      "text/plain": [
       "<Figure size 432x288 with 1 Axes>"
      ],
      "image/png": "[encoded data removed]"
     },
     "metadata": {
      "needs_background": "light"
     }
    }
   ],
   "metadata": {}
  },
  {
   "cell_type": "markdown",
   "source": [
    "# Image Shape Transformation"
   ],
   "metadata": {}
  },
  {
   "cell_type": "code",
   "execution_count": 87,
   "source": [
    "# For greyscale image shape must be changed to 28 x 28 x 1\r\n",
    "image_height=28\r\n",
    "image_width=28\r\n",
    "\r\n",
    "# Gray Scale Image with number of channels = 1 (Rank)\r\n",
    "num_channels=1\r\n",
    "\r\n",
    "# Reshaping of Image Handwritten MNIST Data\r\n",
    "train_digits=np.reshape(train_data,newshape=(60000,image_height,image_width,num_channels))\r\n",
    "test_digits=np.reshape(test_data,newshape=(10000,image_height,image_width,num_channels))"
   ],
   "outputs": [],
   "metadata": {}
  },
  {
   "cell_type": "code",
   "execution_count": 88,
   "source": [
    "train_digits.shape"
   ],
   "outputs": [
    {
     "output_type": "execute_result",
     "data": {
      "text/plain": [
       "(60000, 28, 28, 1)"
      ]
     },
     "metadata": {},
     "execution_count": 88
    }
   ],
   "metadata": {}
  },
  {
   "cell_type": "markdown",
   "source": [
    "# Image Pixel Normalization"
   ],
   "metadata": {}
  },
  {
   "cell_type": "code",
   "execution_count": 89,
   "source": [
    "# scaling of image data\r\n",
    "train_digits=train_digits.astype('float32')/255\r\n",
    "test_digits=test_digits.astype('float32')/255"
   ],
   "outputs": [],
   "metadata": {}
  },
  {
   "cell_type": "code",
   "execution_count": 90,
   "source": [
    "# There are 10\r\n",
    "train_labels[0:10]"
   ],
   "outputs": [
    {
     "output_type": "execute_result",
     "data": {
      "text/plain": [
       "array([5, 0, 4, 1, 9, 2, 1, 3, 1, 4], dtype=uint8)"
      ]
     },
     "metadata": {},
     "execution_count": 90
    }
   ],
   "metadata": {}
  },
  {
   "cell_type": "code",
   "execution_count": 91,
   "source": [
    "from tensorflow.keras.utils import to_categorical\r\n",
    "num_classes=10\r\n",
    "train_labels_class=to_categorical(train_labels,num_classes)"
   ],
   "outputs": [],
   "metadata": {}
  },
  {
   "cell_type": "code",
   "execution_count": 92,
   "source": [
    "train_labels_class"
   ],
   "outputs": [
    {
     "output_type": "execute_result",
     "data": {
      "text/plain": [
       "array([[0., 0., 0., ..., 0., 0., 0.],\n",
       "       [1., 0., 0., ..., 0., 0., 0.],\n",
       "       [0., 0., 0., ..., 0., 0., 0.],\n",
       "       ...,\n",
       "       [0., 0., 0., ..., 0., 0., 0.],\n",
       "       [0., 0., 0., ..., 0., 0., 0.],\n",
       "       [0., 0., 0., ..., 0., 1., 0.]], dtype=float32)"
      ]
     },
     "metadata": {},
     "execution_count": 92
    }
   ],
   "metadata": {}
  },
  {
   "cell_type": "markdown",
   "source": [
    "# CNN"
   ],
   "metadata": {}
  },
  {
   "cell_type": "code",
   "execution_count": 93,
   "source": [
    "from keras.layers import Dense, Dropout, Conv2D, MaxPooling2D, Flatten\r\n",
    "from keras.models import Sequential\r\n",
    "from keras.optimizers import Adam\r\n"
   ],
   "outputs": [],
   "metadata": {}
  },
  {
   "cell_type": "code",
   "execution_count": 94,
   "source": [
    "def build_model():\r\n",
    "    model = Sequential()\r\n",
    "\r\n",
    "    # Convolutional Neural Network - I\r\n",
    "    # padding='same' : Zero Padding , padding='valid'\r\n",
    "    model.add(Conv2D(filters = 32, kernel_size=(3,3), strides=(1,1), padding='same', activation='relu', \r\n",
    "                     input_shape = (image_height, image_width, num_channels)))\r\n",
    "    # MaxPooling\r\n",
    "    model.add(MaxPooling2D(pool_size=(2,2)))\r\n",
    "\r\n",
    "    # Conv2D - II\r\n",
    "    model.add(Conv2D(filters = 64, kernel_size=(3,3), strides=(1,1), padding='same', activation='relu'))\r\n",
    "    # MaxPooling\r\n",
    "    model.add(MaxPooling2D(pool_size=(2,2)))\r\n",
    "\r\n",
    "    # Conv2D - III\r\n",
    "    model.add(Conv2D(filters = 64, kernel_size=(3,3), strides=(1,1), padding='same', activation='relu'))\r\n",
    "    # MaxPooling\r\n",
    "    model.add(MaxPooling2D(pool_size=(2,2)))\r\n",
    "\r\n",
    "    # Flatten Layer\r\n",
    "    model.add(Flatten())\r\n",
    "\r\n",
    "    # Fully Connected layer\r\n",
    "    model.add(Dense(units = 128, activation='relu'))\r\n",
    "\r\n",
    "    # Output Layer\r\n",
    "    # Activation function for multiclass classification = SOFTMAX\r\n",
    "    model.add(Dense(units = 10, activation='softmax'))\r\n",
    "\r\n",
    "    optimizers = Adam(learning_rate= 0.0001)\r\n",
    "\r\n",
    "    model.compile(optimizer = optimizers, loss = 'categorical_crossentropy', metrics = ['accuracy'])\r\n",
    "\r\n",
    "    return model"
   ],
   "outputs": [],
   "metadata": {}
  },
  {
   "cell_type": "code",
   "execution_count": 95,
   "source": [
    "model=build_model()\r\n",
    "model.summary()"
   ],
   "outputs": [
    {
     "output_type": "stream",
     "name": "stdout",
     "text": [
      "Model: \"sequential_5\"\n",
      "_________________________________________________________________\n",
      "Layer (type)                 Output Shape              Param #   \n",
      "=================================================================\n",
      "conv2d_15 (Conv2D)           (None, 28, 28, 32)        320       \n",
      "_________________________________________________________________\n",
      "max_pooling2d_15 (MaxPooling (None, 14, 14, 32)        0         \n",
      "_________________________________________________________________\n",
      "conv2d_16 (Conv2D)           (None, 14, 14, 64)        18496     \n",
      "_________________________________________________________________\n",
      "max_pooling2d_16 (MaxPooling (None, 7, 7, 64)          0         \n",
      "_________________________________________________________________\n",
      "conv2d_17 (Conv2D)           (None, 7, 7, 64)          36928     \n",
      "_________________________________________________________________\n",
      "max_pooling2d_17 (MaxPooling (None, 3, 3, 64)          0         \n",
      "_________________________________________________________________\n",
      "flatten_1 (Flatten)          (None, 576)               0         \n",
      "_________________________________________________________________\n",
      "dense_10 (Dense)             (None, 128)               73856     \n",
      "_________________________________________________________________\n",
      "dense_11 (Dense)             (None, 10)                1290      \n",
      "=================================================================\n",
      "Total params: 130,890\n",
      "Trainable params: 130,890\n",
      "Non-trainable params: 0\n",
      "_________________________________________________________________\n"
     ]
    }
   ],
   "metadata": {}
  },
  {
   "cell_type": "code",
   "execution_count": 96,
   "source": [
    "from keras import callbacks\r\n",
    "filepath=\"E:\\Ai\\Best_MNIST.hdf5\"\r\n",
    "checkpoint = callbacks.ModelCheckpoint(filepath, monitor = 'val_loss', save_best_model = True, mode = 'min', verbose = 1)\r\n",
    "checkpoint"
   ],
   "outputs": [
    {
     "output_type": "execute_result",
     "data": {
      "text/plain": [
       "<tensorflow.python.keras.callbacks.ModelCheckpoint at 0x2330348edf0>"
      ]
     },
     "metadata": {},
     "execution_count": 96
    }
   ],
   "metadata": {}
  },
  {
   "cell_type": "code",
   "execution_count": 97,
   "source": [
    "import datetime\r\n",
    "import keras\r\n",
    "import os\r\n",
    "logdir = os.path.join(\"E:\\Ai\\logs_MNIST\", datetime.datetime.now().strftime('%Y%m%d-%H%M%S'))\r\n",
    "tensorboard_callback = keras.callbacks.TensorBoard(logdir)"
   ],
   "outputs": [],
   "metadata": {}
  },
  {
   "cell_type": "code",
   "execution_count": 98,
   "source": [
    "history = model.fit(train_digits, train_labels_class, epochs = 15, batch_size= 64, validation_split = 0.1, callbacks = [checkpoint, tensorboard_callback])"
   ],
   "outputs": [
    {
     "output_type": "stream",
     "name": "stdout",
     "text": [
      "Epoch 1/15\n",
      "844/844 [==============================] - 53s 49ms/step - loss: 0.5555 - accuracy: 0.8486 - val_loss: 0.1373 - val_accuracy: 0.9605\n",
      "\n",
      "Epoch 00001: saving model to E:\\Ai\\Best_MNIST.hdf5\n",
      "Epoch 2/15\n",
      "844/844 [==============================] - 35s 42ms/step - loss: 0.1363 - accuracy: 0.9595 - val_loss: 0.0858 - val_accuracy: 0.9765\n",
      "\n",
      "Epoch 00002: saving model to E:\\Ai\\Best_MNIST.hdf5\n",
      "Epoch 3/15\n",
      "844/844 [==============================] - 32s 38ms/step - loss: 0.0964 - accuracy: 0.9700 - val_loss: 0.0705 - val_accuracy: 0.9802\n",
      "\n",
      "Epoch 00003: saving model to E:\\Ai\\Best_MNIST.hdf5\n",
      "Epoch 4/15\n",
      "844/844 [==============================] - 31s 36ms/step - loss: 0.0778 - accuracy: 0.9758 - val_loss: 0.0648 - val_accuracy: 0.9815\n",
      "\n",
      "Epoch 00004: saving model to E:\\Ai\\Best_MNIST.hdf5\n",
      "Epoch 5/15\n",
      "844/844 [==============================] - 30s 36ms/step - loss: 0.0673 - accuracy: 0.9791 - val_loss: 0.0610 - val_accuracy: 0.9827\n",
      "\n",
      "Epoch 00005: saving model to E:\\Ai\\Best_MNIST.hdf5\n",
      "Epoch 6/15\n",
      "844/844 [==============================] - 29s 34ms/step - loss: 0.0584 - accuracy: 0.9815 - val_loss: 0.0561 - val_accuracy: 0.9838\n",
      "\n",
      "Epoch 00006: saving model to E:\\Ai\\Best_MNIST.hdf5\n",
      "Epoch 7/15\n",
      "844/844 [==============================] - 30s 36ms/step - loss: 0.0515 - accuracy: 0.9840 - val_loss: 0.0492 - val_accuracy: 0.9875\n",
      "\n",
      "Epoch 00007: saving model to E:\\Ai\\Best_MNIST.hdf5\n",
      "Epoch 8/15\n",
      "844/844 [==============================] - 30s 35ms/step - loss: 0.0462 - accuracy: 0.9859 - val_loss: 0.0513 - val_accuracy: 0.9853\n",
      "\n",
      "Epoch 00008: saving model to E:\\Ai\\Best_MNIST.hdf5\n",
      "Epoch 9/15\n",
      "844/844 [==============================] - 31s 36ms/step - loss: 0.0420 - accuracy: 0.9864 - val_loss: 0.0467 - val_accuracy: 0.9873\n",
      "\n",
      "Epoch 00009: saving model to E:\\Ai\\Best_MNIST.hdf5\n",
      "Epoch 10/15\n",
      "844/844 [==============================] - 30s 35ms/step - loss: 0.0384 - accuracy: 0.9876 - val_loss: 0.0429 - val_accuracy: 0.9888\n",
      "\n",
      "Epoch 00010: saving model to E:\\Ai\\Best_MNIST.hdf5\n",
      "Epoch 11/15\n",
      "844/844 [==============================] - 28s 33ms/step - loss: 0.0350 - accuracy: 0.9891 - val_loss: 0.0455 - val_accuracy: 0.9862\n",
      "\n",
      "Epoch 00011: saving model to E:\\Ai\\Best_MNIST.hdf5\n",
      "Epoch 12/15\n",
      "844/844 [==============================] - 32s 38ms/step - loss: 0.0322 - accuracy: 0.9901 - val_loss: 0.0441 - val_accuracy: 0.9873\n",
      "\n",
      "Epoch 00012: saving model to E:\\Ai\\Best_MNIST.hdf5\n",
      "Epoch 13/15\n",
      "844/844 [==============================] - 36s 42ms/step - loss: 0.0293 - accuracy: 0.9902 - val_loss: 0.0426 - val_accuracy: 0.9888\n",
      "\n",
      "Epoch 00013: saving model to E:\\Ai\\Best_MNIST.hdf5\n",
      "Epoch 14/15\n",
      "844/844 [==============================] - 44s 52ms/step - loss: 0.0263 - accuracy: 0.9916 - val_loss: 0.0469 - val_accuracy: 0.9877\n",
      "\n",
      "Epoch 00014: saving model to E:\\Ai\\Best_MNIST.hdf5\n",
      "Epoch 15/15\n",
      "844/844 [==============================] - 43s 51ms/step - loss: 0.0255 - accuracy: 0.9916 - val_loss: 0.0393 - val_accuracy: 0.9883\n",
      "\n",
      "Epoch 00015: saving model to E:\\Ai\\Best_MNIST.hdf5\n"
     ]
    }
   ],
   "metadata": {}
  },
  {
   "cell_type": "code",
   "execution_count": 99,
   "source": [
    "predictions = model.predict(test_digits) "
   ],
   "outputs": [],
   "metadata": {}
  },
  {
   "cell_type": "code",
   "execution_count": 100,
   "source": [
    "# np.argmax converts categorical o/p into integer o/p\r\n",
    "yhat = np.argmax(predictions, axis = 1) "
   ],
   "outputs": [],
   "metadata": {}
  },
  {
   "cell_type": "code",
   "execution_count": 101,
   "source": [
    "test_labels_class = to_categorical(test_labels, num_classes)\r\n",
    "model.evaluate(test_digits, test_labels_class)"
   ],
   "outputs": [
    {
     "output_type": "stream",
     "name": "stdout",
     "text": [
      "313/313 [==============================] - 2s 6ms/step - loss: 0.0309 - accuracy: 0.9894\n"
     ]
    },
    {
     "output_type": "execute_result",
     "data": {
      "text/plain": [
       "[0.030928265303373337, 0.9894000291824341]"
      ]
     },
     "metadata": {},
     "execution_count": 101
    }
   ],
   "metadata": {}
  },
  {
   "cell_type": "code",
   "execution_count": null,
   "source": [
    "from sklearn.metrics import classification_report\r\n",
    "print(classification_report(test_labels, yhat))"
   ],
   "outputs": [],
   "metadata": {}
  },
  {
   "cell_type": "code",
   "execution_count": null,
   "source": [
    "from sklearn.metrics import confusion_matrix\r\n",
    "plt.figure(figsize = (13,8))\r\n",
    "sns.heatmap(confusion_matrix(test_labels, yhat), annot = True, fmt = '0.0f') "
   ],
   "outputs": [],
   "metadata": {}
  }
 ],
 "metadata": {
  "orig_nbformat": 4,
  "language_info": {
   "name": "python",
   "version": "3.9.5",
   "mimetype": "text/x-python",
   "codemirror_mode": {
    "name": "ipython",
    "version": 3
   },
   "pygments_lexer": "ipython3",
   "nbconvert_exporter": "python",
   "file_extension": ".py"
  },
  "kernelspec": {
   "name": "python3",
   "display_name": "Python 3.9.5 64-bit (conda)"
  },
  "interpreter": {
   "hash": "8dce89ea0a1dabb18c453c51bd2b3026b7bacca71a7a950d5eeddd788c2a9563"
  }
 },
 "nbformat": 4,
 "nbformat_minor": 2
}