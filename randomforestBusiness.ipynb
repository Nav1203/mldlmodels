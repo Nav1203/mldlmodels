{
 "cells": [
  {
   "cell_type": "code",
   "execution_count": 2,
   "metadata": {},
   "outputs": [],
   "source": [
    "import numpy as np\n",
    "import pandas as pd\n",
    "import seaborn as sns"
   ]
  },
  {
   "cell_type": "code",
   "execution_count": 3,
   "metadata": {},
   "outputs": [],
   "source": [
    "data=pd.read_csv('indigo.csv')"
   ]
  },
  {
   "cell_type": "code",
   "execution_count": 4,
   "metadata": {},
   "outputs": [
    {
     "data": {
      "text/html": [
       "<div>\n",
       "<style scoped>\n",
       "    .dataframe tbody tr th:only-of-type {\n",
       "        vertical-align: middle;\n",
       "    }\n",
       "\n",
       "    .dataframe tbody tr th {\n",
       "        vertical-align: top;\n",
       "    }\n",
       "\n",
       "    .dataframe thead th {\n",
       "        text-align: right;\n",
       "    }\n",
       "</style>\n",
       "<table border=\"1\" class=\"dataframe\">\n",
       "  <thead>\n",
       "    <tr style=\"text-align: right;\">\n",
       "      <th></th>\n",
       "      <th>Date</th>\n",
       "      <th>Open</th>\n",
       "      <th>High</th>\n",
       "      <th>Low</th>\n",
       "      <th>Close</th>\n",
       "      <th>Adj Close</th>\n",
       "      <th>Volume</th>\n",
       "    </tr>\n",
       "  </thead>\n",
       "  <tbody>\n",
       "    <tr>\n",
       "      <th>0</th>\n",
       "      <td>11/13/2015</td>\n",
       "      <td>918.00</td>\n",
       "      <td>1032.000000</td>\n",
       "      <td>917.000000</td>\n",
       "      <td>1004.099976</td>\n",
       "      <td>951.877136</td>\n",
       "      <td>8446622</td>\n",
       "    </tr>\n",
       "    <tr>\n",
       "      <th>1</th>\n",
       "      <td>11/16/2015</td>\n",
       "      <td>1011.00</td>\n",
       "      <td>1040.000000</td>\n",
       "      <td>966.250000</td>\n",
       "      <td>988.950012</td>\n",
       "      <td>937.515137</td>\n",
       "      <td>3358159</td>\n",
       "    </tr>\n",
       "    <tr>\n",
       "      <th>2</th>\n",
       "      <td>11/17/2015</td>\n",
       "      <td>990.00</td>\n",
       "      <td>1049.900024</td>\n",
       "      <td>976.200012</td>\n",
       "      <td>1036.900024</td>\n",
       "      <td>982.971191</td>\n",
       "      <td>3694092</td>\n",
       "    </tr>\n",
       "    <tr>\n",
       "      <th>3</th>\n",
       "      <td>11/18/2015</td>\n",
       "      <td>1017.25</td>\n",
       "      <td>1068.800049</td>\n",
       "      <td>1015.299988</td>\n",
       "      <td>1045.650024</td>\n",
       "      <td>991.266235</td>\n",
       "      <td>3621593</td>\n",
       "    </tr>\n",
       "    <tr>\n",
       "      <th>4</th>\n",
       "      <td>11/19/2015</td>\n",
       "      <td>1055.00</td>\n",
       "      <td>1166.699951</td>\n",
       "      <td>1052.000000</td>\n",
       "      <td>1143.800049</td>\n",
       "      <td>1084.311401</td>\n",
       "      <td>4320971</td>\n",
       "    </tr>\n",
       "  </tbody>\n",
       "</table>\n",
       "</div>"
      ],
      "text/plain": [
       "         Date     Open         High          Low        Close    Adj Close  \\\n",
       "0  11/13/2015   918.00  1032.000000   917.000000  1004.099976   951.877136   \n",
       "1  11/16/2015  1011.00  1040.000000   966.250000   988.950012   937.515137   \n",
       "2  11/17/2015   990.00  1049.900024   976.200012  1036.900024   982.971191   \n",
       "3  11/18/2015  1017.25  1068.800049  1015.299988  1045.650024   991.266235   \n",
       "4  11/19/2015  1055.00  1166.699951  1052.000000  1143.800049  1084.311401   \n",
       "\n",
       "    Volume  \n",
       "0  8446622  \n",
       "1  3358159  \n",
       "2  3694092  \n",
       "3  3621593  \n",
       "4  4320971  "
      ]
     },
     "execution_count": 4,
     "metadata": {},
     "output_type": "execute_result"
    }
   ],
   "source": [
    "data.head()"
   ]
  },
  {
   "cell_type": "code",
   "execution_count": 5,
   "metadata": {},
   "outputs": [
    {
     "data": {
      "text/plain": [
       "Date         0\n",
       "Open         0\n",
       "High         0\n",
       "Low          0\n",
       "Close        0\n",
       "Adj Close    0\n",
       "Volume       0\n",
       "dtype: int64"
      ]
     },
     "execution_count": 5,
     "metadata": {},
     "output_type": "execute_result"
    }
   ],
   "source": [
    "data.isnull().sum()"
   ]
  },
  {
   "cell_type": "code",
   "execution_count": 6,
   "metadata": {},
   "outputs": [
    {
     "data": {
      "text/html": [
       "<div>\n",
       "<style scoped>\n",
       "    .dataframe tbody tr th:only-of-type {\n",
       "        vertical-align: middle;\n",
       "    }\n",
       "\n",
       "    .dataframe tbody tr th {\n",
       "        vertical-align: top;\n",
       "    }\n",
       "\n",
       "    .dataframe thead th {\n",
       "        text-align: right;\n",
       "    }\n",
       "</style>\n",
       "<table border=\"1\" class=\"dataframe\">\n",
       "  <thead>\n",
       "    <tr style=\"text-align: right;\">\n",
       "      <th></th>\n",
       "      <th>Open</th>\n",
       "      <th>High</th>\n",
       "      <th>Low</th>\n",
       "      <th>Close</th>\n",
       "      <th>Adj Close</th>\n",
       "      <th>Volume</th>\n",
       "    </tr>\n",
       "  </thead>\n",
       "  <tbody>\n",
       "    <tr>\n",
       "      <th>Open</th>\n",
       "      <td>1.000000</td>\n",
       "      <td>0.997311</td>\n",
       "      <td>0.997883</td>\n",
       "      <td>0.995837</td>\n",
       "      <td>0.994762</td>\n",
       "      <td>0.009651</td>\n",
       "    </tr>\n",
       "    <tr>\n",
       "      <th>High</th>\n",
       "      <td>0.997311</td>\n",
       "      <td>1.000000</td>\n",
       "      <td>0.996680</td>\n",
       "      <td>0.998394</td>\n",
       "      <td>0.997461</td>\n",
       "      <td>0.040420</td>\n",
       "    </tr>\n",
       "    <tr>\n",
       "      <th>Low</th>\n",
       "      <td>0.997883</td>\n",
       "      <td>0.996680</td>\n",
       "      <td>1.000000</td>\n",
       "      <td>0.997714</td>\n",
       "      <td>0.996606</td>\n",
       "      <td>-0.010116</td>\n",
       "    </tr>\n",
       "    <tr>\n",
       "      <th>Close</th>\n",
       "      <td>0.995837</td>\n",
       "      <td>0.998394</td>\n",
       "      <td>0.997714</td>\n",
       "      <td>1.000000</td>\n",
       "      <td>0.998961</td>\n",
       "      <td>0.021644</td>\n",
       "    </tr>\n",
       "    <tr>\n",
       "      <th>Adj Close</th>\n",
       "      <td>0.994762</td>\n",
       "      <td>0.997461</td>\n",
       "      <td>0.996606</td>\n",
       "      <td>0.998961</td>\n",
       "      <td>1.000000</td>\n",
       "      <td>0.031487</td>\n",
       "    </tr>\n",
       "    <tr>\n",
       "      <th>Volume</th>\n",
       "      <td>0.009651</td>\n",
       "      <td>0.040420</td>\n",
       "      <td>-0.010116</td>\n",
       "      <td>0.021644</td>\n",
       "      <td>0.031487</td>\n",
       "      <td>1.000000</td>\n",
       "    </tr>\n",
       "  </tbody>\n",
       "</table>\n",
       "</div>"
      ],
      "text/plain": [
       "               Open      High       Low     Close  Adj Close    Volume\n",
       "Open       1.000000  0.997311  0.997883  0.995837   0.994762  0.009651\n",
       "High       0.997311  1.000000  0.996680  0.998394   0.997461  0.040420\n",
       "Low        0.997883  0.996680  1.000000  0.997714   0.996606 -0.010116\n",
       "Close      0.995837  0.998394  0.997714  1.000000   0.998961  0.021644\n",
       "Adj Close  0.994762  0.997461  0.996606  0.998961   1.000000  0.031487\n",
       "Volume     0.009651  0.040420 -0.010116  0.021644   0.031487  1.000000"
      ]
     },
     "execution_count": 6,
     "metadata": {},
     "output_type": "execute_result"
    }
   ],
   "source": [
    "data.corr()"
   ]
  },
  {
   "cell_type": "code",
   "execution_count": 7,
   "metadata": {},
   "outputs": [
    {
     "name": "stderr",
     "output_type": "stream",
     "text": [
      "E:\\Ai\\projectvenv\\lib\\site-packages\\seaborn\\distributions.py:2557: FutureWarning: `distplot` is a deprecated function and will be removed in a future version. Please adapt your code to use either `displot` (a figure-level function with similar flexibility) or `histplot` (an axes-level function for histograms).\n",
      "  warnings.warn(msg, FutureWarning)\n"
     ]
    },
    {
     "data": {
      "text/plain": [
       "<function matplotlib.pyplot.plot(*args, scalex=True, scaley=True, data=None, **kwargs)>"
      ]
     },
     "execution_count": 7,
     "metadata": {},
     "output_type": "execute_result"
    },
    {
     "data": {
      "image/png": "[encoded data removed]",
      "text/plain": [
       "<Figure size 864x648 with 1 Axes>"
      ]
     },
     "metadata": {
      "needs_background": "light"
     },
     "output_type": "display_data"
    }
   ],
   "source": [
    "import matplotlib.pyplot as plt\n",
    "plt.figure(figsize=(12,9))\n",
    "sns.distplot(data['Close'])\n",
    "plt.plot"
   ]
  },
  {
   "cell_type": "code",
   "execution_count": 8,
   "metadata": {},
   "outputs": [
    {
     "data": {
      "text/plain": [
       "<AxesSubplot:>"
      ]
     },
     "execution_count": 8,
     "metadata": {},
     "output_type": "execute_result"
    },
    {
     "data": {
      "image/png": "[encoded data removed]",
      "text/plain": [
       "<Figure size 720x576 with 2 Axes>"
      ]
     },
     "metadata": {
      "needs_background": "light"
     },
     "output_type": "display_data"
    }
   ],
   "source": [
    "plt.figure(figsize=(10,8))\n",
    "sns.heatmap(data.corr(method='pearson'),annot=True,cmap='PiYG')"
   ]
  },
  {
   "cell_type": "code",
   "execution_count": 9,
   "metadata": {},
   "outputs": [
    {
     "data": {
      "text/html": [
       "<div>\n",
       "<style scoped>\n",
       "    .dataframe tbody tr th:only-of-type {\n",
       "        vertical-align: middle;\n",
       "    }\n",
       "\n",
       "    .dataframe tbody tr th {\n",
       "        vertical-align: top;\n",
       "    }\n",
       "\n",
       "    .dataframe thead th {\n",
       "        text-align: right;\n",
       "    }\n",
       "</style>\n",
       "<table border=\"1\" class=\"dataframe\">\n",
       "  <thead>\n",
       "    <tr style=\"text-align: right;\">\n",
       "      <th></th>\n",
       "      <th>Date</th>\n",
       "      <th>Open</th>\n",
       "      <th>High</th>\n",
       "      <th>Low</th>\n",
       "      <th>Close</th>\n",
       "      <th>Adj Close</th>\n",
       "      <th>Volume</th>\n",
       "    </tr>\n",
       "  </thead>\n",
       "  <tbody>\n",
       "    <tr>\n",
       "      <th>0</th>\n",
       "      <td>11/13/2015</td>\n",
       "      <td>918.000000</td>\n",
       "      <td>1032.000000</td>\n",
       "      <td>917.000000</td>\n",
       "      <td>1004.099976</td>\n",
       "      <td>951.877136</td>\n",
       "      <td>8446622</td>\n",
       "    </tr>\n",
       "    <tr>\n",
       "      <th>1</th>\n",
       "      <td>11/16/2015</td>\n",
       "      <td>1011.000000</td>\n",
       "      <td>1040.000000</td>\n",
       "      <td>966.250000</td>\n",
       "      <td>988.950012</td>\n",
       "      <td>937.515137</td>\n",
       "      <td>3358159</td>\n",
       "    </tr>\n",
       "    <tr>\n",
       "      <th>2</th>\n",
       "      <td>11/17/2015</td>\n",
       "      <td>990.000000</td>\n",
       "      <td>1049.900024</td>\n",
       "      <td>976.200012</td>\n",
       "      <td>1036.900024</td>\n",
       "      <td>982.971191</td>\n",
       "      <td>3694092</td>\n",
       "    </tr>\n",
       "    <tr>\n",
       "      <th>3</th>\n",
       "      <td>11/18/2015</td>\n",
       "      <td>1017.250000</td>\n",
       "      <td>1068.800049</td>\n",
       "      <td>1015.299988</td>\n",
       "      <td>1045.650024</td>\n",
       "      <td>991.266235</td>\n",
       "      <td>3621593</td>\n",
       "    </tr>\n",
       "    <tr>\n",
       "      <th>4</th>\n",
       "      <td>11/19/2015</td>\n",
       "      <td>1055.000000</td>\n",
       "      <td>1166.699951</td>\n",
       "      <td>1052.000000</td>\n",
       "      <td>1143.800049</td>\n",
       "      <td>1084.311401</td>\n",
       "      <td>4320971</td>\n",
       "    </tr>\n",
       "    <tr>\n",
       "      <th>...</th>\n",
       "      <td>...</td>\n",
       "      <td>...</td>\n",
       "      <td>...</td>\n",
       "      <td>...</td>\n",
       "      <td>...</td>\n",
       "      <td>...</td>\n",
       "      <td>...</td>\n",
       "    </tr>\n",
       "    <tr>\n",
       "      <th>1529</th>\n",
       "      <td>1/21/2022</td>\n",
       "      <td>2087.600098</td>\n",
       "      <td>2127.699951</td>\n",
       "      <td>2070.000000</td>\n",
       "      <td>2084.350098</td>\n",
       "      <td>2084.350098</td>\n",
       "      <td>708173</td>\n",
       "    </tr>\n",
       "    <tr>\n",
       "      <th>1530</th>\n",
       "      <td>1/24/2022</td>\n",
       "      <td>2089.000000</td>\n",
       "      <td>2089.000000</td>\n",
       "      <td>1970.849976</td>\n",
       "      <td>1992.199951</td>\n",
       "      <td>1992.199951</td>\n",
       "      <td>459730</td>\n",
       "    </tr>\n",
       "    <tr>\n",
       "      <th>1531</th>\n",
       "      <td>1/25/2022</td>\n",
       "      <td>1985.099976</td>\n",
       "      <td>2024.000000</td>\n",
       "      <td>1955.599976</td>\n",
       "      <td>1966.699951</td>\n",
       "      <td>1966.699951</td>\n",
       "      <td>705168</td>\n",
       "    </tr>\n",
       "    <tr>\n",
       "      <th>1532</th>\n",
       "      <td>1/27/2022</td>\n",
       "      <td>1925.000000</td>\n",
       "      <td>1935.000000</td>\n",
       "      <td>1838.000000</td>\n",
       "      <td>1862.599976</td>\n",
       "      <td>1862.599976</td>\n",
       "      <td>1484512</td>\n",
       "    </tr>\n",
       "    <tr>\n",
       "      <th>1533</th>\n",
       "      <td>1/28/2022</td>\n",
       "      <td>1869.000000</td>\n",
       "      <td>1901.250000</td>\n",
       "      <td>1826.000000</td>\n",
       "      <td>1856.650024</td>\n",
       "      <td>1856.650024</td>\n",
       "      <td>1843563</td>\n",
       "    </tr>\n",
       "  </tbody>\n",
       "</table>\n",
       "<p>1534 rows × 7 columns</p>\n",
       "</div>"
      ],
      "text/plain": [
       "            Date         Open         High          Low        Close  \\\n",
       "0     11/13/2015   918.000000  1032.000000   917.000000  1004.099976   \n",
       "1     11/16/2015  1011.000000  1040.000000   966.250000   988.950012   \n",
       "2     11/17/2015   990.000000  1049.900024   976.200012  1036.900024   \n",
       "3     11/18/2015  1017.250000  1068.800049  1015.299988  1045.650024   \n",
       "4     11/19/2015  1055.000000  1166.699951  1052.000000  1143.800049   \n",
       "...          ...          ...          ...          ...          ...   \n",
       "1529   1/21/2022  2087.600098  2127.699951  2070.000000  2084.350098   \n",
       "1530   1/24/2022  2089.000000  2089.000000  1970.849976  1992.199951   \n",
       "1531   1/25/2022  1985.099976  2024.000000  1955.599976  1966.699951   \n",
       "1532   1/27/2022  1925.000000  1935.000000  1838.000000  1862.599976   \n",
       "1533   1/28/2022  1869.000000  1901.250000  1826.000000  1856.650024   \n",
       "\n",
       "        Adj Close   Volume  \n",
       "0      951.877136  8446622  \n",
       "1      937.515137  3358159  \n",
       "2      982.971191  3694092  \n",
       "3      991.266235  3621593  \n",
       "4     1084.311401  4320971  \n",
       "...           ...      ...  \n",
       "1529  2084.350098   708173  \n",
       "1530  1992.199951   459730  \n",
       "1531  1966.699951   705168  \n",
       "1532  1862.599976  1484512  \n",
       "1533  1856.650024  1843563  \n",
       "\n",
       "[1534 rows x 7 columns]"
      ]
     },
     "metadata": {},
     "output_type": "display_data"
    }
   ],
   "source": [
    "display(data)"
   ]
  },
  {
   "cell_type": "code",
   "execution_count": null,
   "metadata": {},
   "outputs": [],
   "source": []
  }
 ],
 "metadata": {
  "interpreter": {
   "hash": "8dce89ea0a1dabb18c453c51bd2b3026b7bacca71a7a950d5eeddd788c2a9563"
  },
  "kernelspec": {
   "display_name": "Python 3.9.5",
   "language": "python",
   "name": "python3"
  },
  "language_info": {
   "codemirror_mode": {
    "name": "ipython",
    "version": 3
   },
   "file_extension": ".py",
   "mimetype": "text/x-python",
   "name": "python",
   "nbconvert_exporter": "python",
   "pygments_lexer": "ipython3",
   "version": "3.9.5"
  },
  "orig_nbformat": 4
 },
 "nbformat": 4,
 "nbformat_minor": 2
}
