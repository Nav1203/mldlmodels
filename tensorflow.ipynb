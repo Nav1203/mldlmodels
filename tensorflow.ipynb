{
 "cells": [
  {
   "cell_type": "code",
   "execution_count": 2,
   "source": [
    "import tensorflow as tf"
   ],
   "outputs": [],
   "metadata": {}
  },
  {
   "cell_type": "code",
   "execution_count": 3,
   "source": [
    "const_1=tf.constant(127,dtype='int8')\r\n",
    "const_1"
   ],
   "outputs": [
    {
     "output_type": "execute_result",
     "data": {
      "text/plain": [
       "<tf.Tensor: shape=(), dtype=int8, numpy=127>"
      ]
     },
     "metadata": {},
     "execution_count": 3
    }
   ],
   "metadata": {}
  },
  {
   "cell_type": "code",
   "execution_count": 4,
   "source": [
    "const_1.numpy()"
   ],
   "outputs": [
    {
     "output_type": "execute_result",
     "data": {
      "text/plain": [
       "127"
      ]
     },
     "metadata": {},
     "execution_count": 4
    }
   ],
   "metadata": {}
  },
  {
   "cell_type": "code",
   "execution_count": 5,
   "source": [
    "const_1.shape"
   ],
   "outputs": [
    {
     "output_type": "execute_result",
     "data": {
      "text/plain": [
       "TensorShape([])"
      ]
     },
     "metadata": {},
     "execution_count": 5
    }
   ],
   "metadata": {}
  },
  {
   "cell_type": "markdown",
   "source": [
    "# Vectors"
   ],
   "metadata": {}
  },
  {
   "cell_type": "code",
   "execution_count": 6,
   "source": [
    "const_2=tf.constant([2.,4.,6.,8.,11.,13],dtype='float16')\r\n",
    "print(const_2)"
   ],
   "outputs": [
    {
     "output_type": "stream",
     "name": "stdout",
     "text": [
      "tf.Tensor([ 2.  4.  6.  8. 11. 13.], shape=(6,), dtype=float16)\n"
     ]
    }
   ],
   "metadata": {}
  },
  {
   "cell_type": "code",
   "execution_count": 7,
   "source": [
    "const_2.numpy()"
   ],
   "outputs": [
    {
     "output_type": "execute_result",
     "data": {
      "text/plain": [
       "array([ 2.,  4.,  6.,  8., 11., 13.], dtype=float16)"
      ]
     },
     "metadata": {},
     "execution_count": 7
    }
   ],
   "metadata": {}
  },
  {
   "cell_type": "markdown",
   "source": [
    "# Tensor Matrix\r\n",
    "- Rank 2 Tensor"
   ],
   "metadata": {}
  },
  {
   "cell_type": "code",
   "execution_count": null,
   "source": [
    "tf.constant([[[10,20,30],\r\n",
    "            [30,40,50],\r\n",
    "            [40,60,70]],\r\n",
    "\r\n",
    "            [[10,20,30],\r\n",
    "            [30,40,50],\r\n",
    "            [40,60,70]],\r\n",
    "\r\n",
    "            [[10,20,30],\r\n",
    "            [30,40,50],\r\n",
    "            [40,60,70]]],dtype='int8')"
   ],
   "outputs": [
    {
     "output_type": "execute_result",
     "data": {
      "text/plain": [
       "<tf.Tensor: shape=(3, 3, 3), dtype=int8, numpy=\n",
       "array([[[10, 20, 30],\n",
       "        [30, 40, 50],\n",
       "        [40, 60, 70]],\n",
       "\n",
       "       [[10, 20, 30],\n",
       "        [30, 40, 50],\n",
       "        [40, 60, 70]],\n",
       "\n",
       "       [[10, 20, 30],\n",
       "        [30, 40, 50],\n",
       "        [40, 60, 70]]], dtype=int8)>"
      ]
     },
     "metadata": {},
     "execution_count": 2
    }
   ],
   "metadata": {}
  },
  {
   "cell_type": "code",
   "execution_count": null,
   "source": [
    "var_1=tf.Variable(0,dtype='int8')\r\n",
    "var_1"
   ],
   "outputs": [
    {
     "output_type": "execute_result",
     "data": {
      "text/plain": [
       "<tf.Variable 'Variable:0' shape=() dtype=int8, numpy=0>"
      ]
     },
     "metadata": {},
     "execution_count": 6
    }
   ],
   "metadata": {}
  },
  {
   "cell_type": "code",
   "execution_count": null,
   "source": [
    "var_2=tf.Variable([2.,4.,6.,8.,11.,13],dtype='float16')\r\n",
    "var_2"
   ],
   "outputs": [
    {
     "output_type": "execute_result",
     "data": {
      "text/plain": [
       "<tf.Variable 'Variable:0' shape=(6,) dtype=float16, numpy=array([ 2.,  4.,  6.,  8., 11., 13.], dtype=float16)>"
      ]
     },
     "metadata": {},
     "execution_count": 5
    }
   ],
   "metadata": {}
  },
  {
   "cell_type": "code",
   "execution_count": null,
   "source": [
    "weights=tf.Variable([[10],\r\n",
    "                    [12],\r\n",
    "                    [13],\r\n",
    "                    [14],\r\n",
    "                    [15],\r\n",
    "                    [20]],dtype='float16')"
   ],
   "outputs": [],
   "metadata": {}
  },
  {
   "cell_type": "code",
   "execution_count": null,
   "source": [
    "x=tf.constant([[10.],\r\n",
    "                [20.],\r\n",
    "                [30.],\r\n",
    "                [40.],\r\n",
    "                [50.],\r\n",
    "                [60.]],dtype='float16')"
   ],
   "outputs": [],
   "metadata": {}
  },
  {
   "cell_type": "code",
   "execution_count": null,
   "source": [
    "wt=tf.transpose(weights)\r\n",
    "wt"
   ],
   "outputs": [
    {
     "output_type": "execute_result",
     "data": {
      "text/plain": [
       "<tf.Tensor: shape=(1, 6), dtype=float16, numpy=array([[10., 12., 13., 14., 15., 20.]], dtype=float16)>"
      ]
     },
     "metadata": {},
     "execution_count": 11
    }
   ],
   "metadata": {}
  },
  {
   "cell_type": "code",
   "execution_count": null,
   "source": [
    "tf.tensordot(wt,x,axes=1)"
   ],
   "outputs": [
    {
     "output_type": "execute_result",
     "data": {
      "text/plain": [
       "<tf.Tensor: shape=(1, 1), dtype=float16, numpy=array([[3240.]], dtype=float16)>"
      ]
     },
     "metadata": {},
     "execution_count": 12
    }
   ],
   "metadata": {}
  },
  {
   "cell_type": "code",
   "execution_count": null,
   "source": [
    "tf.tensordot(x,wt,axes=1)"
   ],
   "outputs": [
    {
     "output_type": "execute_result",
     "data": {
      "text/plain": [
       "<tf.Tensor: shape=(6, 6), dtype=float16, numpy=\n",
       "array([[ 100.,  120.,  130.,  140.,  150.,  200.],\n",
       "       [ 200.,  240.,  260.,  280.,  300.,  400.],\n",
       "       [ 300.,  360.,  390.,  420.,  450.,  600.],\n",
       "       [ 400.,  480.,  520.,  560.,  600.,  800.],\n",
       "       [ 500.,  600.,  650.,  700.,  750., 1000.],\n",
       "       [ 600.,  720.,  780.,  840.,  900., 1200.]], dtype=float16)>"
      ]
     },
     "metadata": {},
     "execution_count": 13
    }
   ],
   "metadata": {}
  },
  {
   "cell_type": "code",
   "execution_count": null,
   "source": [
    "import keras\r\n",
    "from keras.layers import Dense\r\n",
    "from keras.models import Sequential\r\n",
    "from keras.optimizers import RMSprop \r\n"
   ],
   "outputs": [],
   "metadata": {}
  },
  {
   "cell_type": "code",
   "execution_count": null,
   "source": [
    "def build_model():\r\n",
    "    model=Sequential()\r\n",
    "    model.add(Dense(units=4,activation='relu',input_shape=[8]))\r\n",
    "    model.add(Dense(units=8,activation='relu'))\r\n",
    "    model.add(Dense(units=1))\r\n",
    "    model.compile(loss='mean_squared_error')\r\n",
    "    model.compile(loss='mean_squared_error',optimizer='RMSProp',metrics=['mean_squared_error'])\r\n",
    "    return model"
   ],
   "outputs": [],
   "metadata": {}
  },
  {
   "cell_type": "code",
   "execution_count": null,
   "source": [
    "model=build_model()"
   ],
   "outputs": [],
   "metadata": {}
  },
  {
   "cell_type": "code",
   "execution_count": null,
   "source": [
    "model.summary()"
   ],
   "outputs": [],
   "metadata": {}
  }
 ],
 "metadata": {
  "orig_nbformat": 4,
  "language_info": {
   "name": "python",
   "version": "3.9.5",
   "mimetype": "text/x-python",
   "codemirror_mode": {
    "name": "ipython",
    "version": 3
   },
   "pygments_lexer": "ipython3",
   "nbconvert_exporter": "python",
   "file_extension": ".py"
  },
  "kernelspec": {
   "name": "python3",
   "display_name": "Python 3.9.5 64-bit (conda)"
  },
  "interpreter": {
   "hash": "8dce89ea0a1dabb18c453c51bd2b3026b7bacca71a7a950d5eeddd788c2a9563"
  }
 },
 "nbformat": 4,
 "nbformat_minor": 2
}