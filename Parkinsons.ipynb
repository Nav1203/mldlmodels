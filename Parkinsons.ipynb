{
 "cells": [
  {
   "cell_type": "markdown",
   "source": [
    "# Importing Necessary Data"
   ],
   "metadata": {}
  },
  {
   "cell_type": "code",
   "execution_count": 89,
   "source": [
    "import matplotlib.pyplot as plt\r\n",
    "# Descriptive Plots - Boxplot, Density etc.\r\n",
    "import seaborn as sns\r\n",
    "import pandas as pd\r\n",
    "import numpy as np"
   ],
   "outputs": [],
   "metadata": {}
  },
  {
   "cell_type": "markdown",
   "source": [
    "# Reading Data"
   ],
   "metadata": {}
  },
  {
   "cell_type": "code",
   "execution_count": 90,
   "source": [
    "park_df=pd.read_csv(\"E:\\ML\\Parkinsons.csv\")"
   ],
   "outputs": [],
   "metadata": {}
  },
  {
   "cell_type": "code",
   "execution_count": 91,
   "source": [
    "park_df"
   ],
   "outputs": [
    {
     "output_type": "execute_result",
     "data": {
      "text/plain": [
       "     MDVP:Fhi(Hz)  MDVP:Jitter(%)  Shimmer:APQ5  status        D2       PPE\n",
       "0         157.302         0.00784       0.03130       1  2.301442  0.284654\n",
       "1         148.650         0.00968       0.04518       1  2.486855  0.368674\n",
       "2         131.111         0.01050       0.03858       1  2.342259  0.332634\n",
       "3         137.871         0.00997       0.04005       1  2.405554  0.368975\n",
       "4         141.781         0.01284       0.04825       1  2.332180  0.410335\n",
       "..            ...             ...           ...     ...       ...       ...\n",
       "190       230.978         0.00459       0.02498       0  2.657476  0.133050\n",
       "191       253.017         0.00564       0.01657       0  2.784312  0.168895\n",
       "192       240.005         0.01360       0.01365       0  2.679772  0.131728\n",
       "193       396.961         0.00740       0.01321       0  2.138608  0.123306\n",
       "194       260.277         0.00567       0.01161       0  2.555477  0.148569\n",
       "\n",
       "[195 rows x 6 columns]"
      ],
      "text/html": [
       "<div>\n",
       "<style scoped>\n",
       "    .dataframe tbody tr th:only-of-type {\n",
       "        vertical-align: middle;\n",
       "    }\n",
       "\n",
       "    .dataframe tbody tr th {\n",
       "        vertical-align: top;\n",
       "    }\n",
       "\n",
       "    .dataframe thead th {\n",
       "        text-align: right;\n",
       "    }\n",
       "</style>\n",
       "<table border=\"1\" class=\"dataframe\">\n",
       "  <thead>\n",
       "    <tr style=\"text-align: right;\">\n",
       "      <th></th>\n",
       "      <th>MDVP:Fhi(Hz)</th>\n",
       "      <th>MDVP:Jitter(%)</th>\n",
       "      <th>Shimmer:APQ5</th>\n",
       "      <th>status</th>\n",
       "      <th>D2</th>\n",
       "      <th>PPE</th>\n",
       "    </tr>\n",
       "  </thead>\n",
       "  <tbody>\n",
       "    <tr>\n",
       "      <th>0</th>\n",
       "      <td>157.302</td>\n",
       "      <td>0.00784</td>\n",
       "      <td>0.03130</td>\n",
       "      <td>1</td>\n",
       "      <td>2.301442</td>\n",
       "      <td>0.284654</td>\n",
       "    </tr>\n",
       "    <tr>\n",
       "      <th>1</th>\n",
       "      <td>148.650</td>\n",
       "      <td>0.00968</td>\n",
       "      <td>0.04518</td>\n",
       "      <td>1</td>\n",
       "      <td>2.486855</td>\n",
       "      <td>0.368674</td>\n",
       "    </tr>\n",
       "    <tr>\n",
       "      <th>2</th>\n",
       "      <td>131.111</td>\n",
       "      <td>0.01050</td>\n",
       "      <td>0.03858</td>\n",
       "      <td>1</td>\n",
       "      <td>2.342259</td>\n",
       "      <td>0.332634</td>\n",
       "    </tr>\n",
       "    <tr>\n",
       "      <th>3</th>\n",
       "      <td>137.871</td>\n",
       "      <td>0.00997</td>\n",
       "      <td>0.04005</td>\n",
       "      <td>1</td>\n",
       "      <td>2.405554</td>\n",
       "      <td>0.368975</td>\n",
       "    </tr>\n",
       "    <tr>\n",
       "      <th>4</th>\n",
       "      <td>141.781</td>\n",
       "      <td>0.01284</td>\n",
       "      <td>0.04825</td>\n",
       "      <td>1</td>\n",
       "      <td>2.332180</td>\n",
       "      <td>0.410335</td>\n",
       "    </tr>\n",
       "    <tr>\n",
       "      <th>...</th>\n",
       "      <td>...</td>\n",
       "      <td>...</td>\n",
       "      <td>...</td>\n",
       "      <td>...</td>\n",
       "      <td>...</td>\n",
       "      <td>...</td>\n",
       "    </tr>\n",
       "    <tr>\n",
       "      <th>190</th>\n",
       "      <td>230.978</td>\n",
       "      <td>0.00459</td>\n",
       "      <td>0.02498</td>\n",
       "      <td>0</td>\n",
       "      <td>2.657476</td>\n",
       "      <td>0.133050</td>\n",
       "    </tr>\n",
       "    <tr>\n",
       "      <th>191</th>\n",
       "      <td>253.017</td>\n",
       "      <td>0.00564</td>\n",
       "      <td>0.01657</td>\n",
       "      <td>0</td>\n",
       "      <td>2.784312</td>\n",
       "      <td>0.168895</td>\n",
       "    </tr>\n",
       "    <tr>\n",
       "      <th>192</th>\n",
       "      <td>240.005</td>\n",
       "      <td>0.01360</td>\n",
       "      <td>0.01365</td>\n",
       "      <td>0</td>\n",
       "      <td>2.679772</td>\n",
       "      <td>0.131728</td>\n",
       "    </tr>\n",
       "    <tr>\n",
       "      <th>193</th>\n",
       "      <td>396.961</td>\n",
       "      <td>0.00740</td>\n",
       "      <td>0.01321</td>\n",
       "      <td>0</td>\n",
       "      <td>2.138608</td>\n",
       "      <td>0.123306</td>\n",
       "    </tr>\n",
       "    <tr>\n",
       "      <th>194</th>\n",
       "      <td>260.277</td>\n",
       "      <td>0.00567</td>\n",
       "      <td>0.01161</td>\n",
       "      <td>0</td>\n",
       "      <td>2.555477</td>\n",
       "      <td>0.148569</td>\n",
       "    </tr>\n",
       "  </tbody>\n",
       "</table>\n",
       "<p>195 rows × 6 columns</p>\n",
       "</div>"
      ]
     },
     "metadata": {},
     "execution_count": 91
    }
   ],
   "metadata": {}
  },
  {
   "cell_type": "markdown",
   "source": [
    "# Data Visualization and Analysis"
   ],
   "metadata": {}
  },
  {
   "cell_type": "code",
   "execution_count": 92,
   "source": [
    "park_df.isnull().sum()"
   ],
   "outputs": [
    {
     "output_type": "execute_result",
     "data": {
      "text/plain": [
       "MDVP:Fhi(Hz)      0\n",
       "MDVP:Jitter(%)    0\n",
       "Shimmer:APQ5      0\n",
       "status            0\n",
       "D2                0\n",
       "PPE               0\n",
       "dtype: int64"
      ]
     },
     "metadata": {},
     "execution_count": 92
    }
   ],
   "metadata": {}
  },
  {
   "cell_type": "code",
   "execution_count": 93,
   "source": [
    "for i in park_df.columns:\r\n",
    "    if i!='status':\r\n",
    "        plt.figure(figsize=(5,8))\r\n",
    "        print(\"%s vs Status\"%i)\r\n",
    "        sns.catplot(x='status',y=i,kind='box',data=park_df)\r\n",
    "        plt.show()\r\n",
    "    else:\r\n",
    "        continue"
   ],
   "outputs": [
    {
     "output_type": "stream",
     "name": "stdout",
     "text": [
      "MDVP:Fhi(Hz) vs Status\n"
     ]
    },
    {
     "output_type": "display_data",
     "data": {
      "text/plain": [
       "<Figure size 360x576 with 0 Axes>"
      ]
     },
     "metadata": {}
    },
    {
     "output_type": "display_data",
     "data": {
      "text/plain": [
       "<Figure size 360x360 with 1 Axes>"
      ],
      "image/png": "[encoded data removed]"
     },
     "metadata": {
      "needs_background": "light"
     }
    },
    {
     "output_type": "stream",
     "name": "stdout",
     "text": [
      "MDVP:Jitter(%) vs Status\n"
     ]
    },
    {
     "output_type": "display_data",
     "data": {
      "text/plain": [
       "<Figure size 360x576 with 0 Axes>"
      ]
     },
     "metadata": {}
    },
    {
     "output_type": "display_data",
     "data": {
      "text/plain": [
       "<Figure size 360x360 with 1 Axes>"
      ],
      "image/png": "[encoded data removed]"
     },
     "metadata": {
      "needs_background": "light"
     }
    },
    {
     "output_type": "stream",
     "name": "stdout",
     "text": [
      "Shimmer:APQ5 vs Status\n"
     ]
    },
    {
     "output_type": "display_data",
     "data": {
      "text/plain": [
       "<Figure size 360x576 with 0 Axes>"
      ]
     },
     "metadata": {}
    },
    {
     "output_type": "display_data",
     "data": {
      "text/plain": [
       "<Figure size 360x360 with 1 Axes>"
      ],
      "image/png": "[encoded data removed]"
     },
     "metadata": {
      "needs_background": "light"
     }
    },
    {
     "output_type": "stream",
     "name": "stdout",
     "text": [
      "D2 vs Status\n"
     ]
    },
    {
     "output_type": "display_data",
     "data": {
      "text/plain": [
       "<Figure size 360x576 with 0 Axes>"
      ]
     },
     "metadata": {}
    },
    {
     "output_type": "display_data",
     "data": {
      "text/plain": [
       "<Figure size 360x360 with 1 Axes>"
      ],
      "image/png": "[encoded data removed]"
     },
     "metadata": {
      "needs_background": "light"
     }
    },
    {
     "output_type": "stream",
     "name": "stdout",
     "text": [
      "PPE vs Status\n"
     ]
    },
    {
     "output_type": "display_data",
     "data": {
      "text/plain": [
       "<Figure size 360x576 with 0 Axes>"
      ]
     },
     "metadata": {}
    },
    {
     "output_type": "display_data",
     "data": {
      "text/plain": [
       "<Figure size 360x360 with 1 Axes>"
      ],
      "image/png": "[encoded data removed]"
     },
     "metadata": {
      "needs_background": "light"
     }
    }
   ],
   "metadata": {}
  },
  {
   "cell_type": "code",
   "execution_count": 94,
   "source": [
    "sns.countplot(x=park_df['status'].values)"
   ],
   "outputs": [
    {
     "output_type": "execute_result",
     "data": {
      "text/plain": [
       "<AxesSubplot:ylabel='count'>"
      ]
     },
     "metadata": {},
     "execution_count": 94
    },
    {
     "output_type": "display_data",
     "data": {
      "text/plain": [
       "<Figure size 432x288 with 1 Axes>"
      ],
      "image/png": "[encoded data removed]"
     },
     "metadata": {
      "needs_background": "light"
     }
    }
   ],
   "metadata": {}
  },
  {
   "cell_type": "code",
   "execution_count": 95,
   "source": [
    "sns.heatmap(park_df.corr(),annot=True)"
   ],
   "outputs": [
    {
     "output_type": "execute_result",
     "data": {
      "text/plain": [
       "<AxesSubplot:>"
      ]
     },
     "metadata": {},
     "execution_count": 95
    },
    {
     "output_type": "display_data",
     "data": {
      "text/plain": [
       "<Figure size 432x288 with 2 Axes>"
      ],
      "image/png": "[encoded data removed]"
     },
     "metadata": {
      "needs_background": "light"
     }
    }
   ],
   "metadata": {}
  },
  {
   "cell_type": "markdown",
   "source": [
    "# Data Preprocessing"
   ],
   "metadata": {}
  },
  {
   "cell_type": "code",
   "execution_count": 96,
   "source": [
    "park_df['status'].value_counts()"
   ],
   "outputs": [
    {
     "output_type": "execute_result",
     "data": {
      "text/plain": [
       "1    147\n",
       "0     48\n",
       "Name: status, dtype: int64"
      ]
     },
     "metadata": {},
     "execution_count": 96
    }
   ],
   "metadata": {}
  },
  {
   "cell_type": "markdown",
   "source": [
    "**Data Augmentation**"
   ],
   "metadata": {}
  },
  {
   "cell_type": "code",
   "execution_count": 97,
   "source": [
    "from sklearn.utils import resample\r\n",
    "data_1=park_df[park_df['status']==1]\r\n",
    "data_2=park_df[park_df['status']==0]\r\n",
    "d2_rescaled=resample(data_2,n_samples=100,replace=True,random_state=123)\r\n",
    "park_df=pd.concat([data_1,d2_rescaled])"
   ],
   "outputs": [],
   "metadata": {}
  },
  {
   "cell_type": "code",
   "execution_count": 98,
   "source": [
    "park_df"
   ],
   "outputs": [
    {
     "output_type": "execute_result",
     "data": {
      "text/plain": [
       "     MDVP:Fhi(Hz)  MDVP:Jitter(%)  Shimmer:APQ5  status        D2       PPE\n",
       "0         157.302         0.00784       0.03130       1  2.301442  0.284654\n",
       "1         148.650         0.00968       0.04518       1  2.486855  0.368674\n",
       "2         131.111         0.01050       0.03858       1  2.342259  0.332634\n",
       "3         137.871         0.00997       0.04005       1  2.405554  0.368975\n",
       "4         141.781         0.01284       0.04825       1  2.332180  0.410335\n",
       "..            ...             ...           ...     ...       ...       ...\n",
       "45        255.034         0.00225       0.00879       0  2.365800  0.102706\n",
       "65        239.541         0.00238       0.01160       0  2.118596  0.091546\n",
       "50        135.069         0.00431       0.01024       0  1.840198  0.103561\n",
       "185       177.291         0.00314       0.00990       0  2.058658  0.214346\n",
       "61        238.987         0.00264       0.01296       0  2.321560  0.098555\n",
       "\n",
       "[247 rows x 6 columns]"
      ],
      "text/html": [
       "<div>\n",
       "<style scoped>\n",
       "    .dataframe tbody tr th:only-of-type {\n",
       "        vertical-align: middle;\n",
       "    }\n",
       "\n",
       "    .dataframe tbody tr th {\n",
       "        vertical-align: top;\n",
       "    }\n",
       "\n",
       "    .dataframe thead th {\n",
       "        text-align: right;\n",
       "    }\n",
       "</style>\n",
       "<table border=\"1\" class=\"dataframe\">\n",
       "  <thead>\n",
       "    <tr style=\"text-align: right;\">\n",
       "      <th></th>\n",
       "      <th>MDVP:Fhi(Hz)</th>\n",
       "      <th>MDVP:Jitter(%)</th>\n",
       "      <th>Shimmer:APQ5</th>\n",
       "      <th>status</th>\n",
       "      <th>D2</th>\n",
       "      <th>PPE</th>\n",
       "    </tr>\n",
       "  </thead>\n",
       "  <tbody>\n",
       "    <tr>\n",
       "      <th>0</th>\n",
       "      <td>157.302</td>\n",
       "      <td>0.00784</td>\n",
       "      <td>0.03130</td>\n",
       "      <td>1</td>\n",
       "      <td>2.301442</td>\n",
       "      <td>0.284654</td>\n",
       "    </tr>\n",
       "    <tr>\n",
       "      <th>1</th>\n",
       "      <td>148.650</td>\n",
       "      <td>0.00968</td>\n",
       "      <td>0.04518</td>\n",
       "      <td>1</td>\n",
       "      <td>2.486855</td>\n",
       "      <td>0.368674</td>\n",
       "    </tr>\n",
       "    <tr>\n",
       "      <th>2</th>\n",
       "      <td>131.111</td>\n",
       "      <td>0.01050</td>\n",
       "      <td>0.03858</td>\n",
       "      <td>1</td>\n",
       "      <td>2.342259</td>\n",
       "      <td>0.332634</td>\n",
       "    </tr>\n",
       "    <tr>\n",
       "      <th>3</th>\n",
       "      <td>137.871</td>\n",
       "      <td>0.00997</td>\n",
       "      <td>0.04005</td>\n",
       "      <td>1</td>\n",
       "      <td>2.405554</td>\n",
       "      <td>0.368975</td>\n",
       "    </tr>\n",
       "    <tr>\n",
       "      <th>4</th>\n",
       "      <td>141.781</td>\n",
       "      <td>0.01284</td>\n",
       "      <td>0.04825</td>\n",
       "      <td>1</td>\n",
       "      <td>2.332180</td>\n",
       "      <td>0.410335</td>\n",
       "    </tr>\n",
       "    <tr>\n",
       "      <th>...</th>\n",
       "      <td>...</td>\n",
       "      <td>...</td>\n",
       "      <td>...</td>\n",
       "      <td>...</td>\n",
       "      <td>...</td>\n",
       "      <td>...</td>\n",
       "    </tr>\n",
       "    <tr>\n",
       "      <th>45</th>\n",
       "      <td>255.034</td>\n",
       "      <td>0.00225</td>\n",
       "      <td>0.00879</td>\n",
       "      <td>0</td>\n",
       "      <td>2.365800</td>\n",
       "      <td>0.102706</td>\n",
       "    </tr>\n",
       "    <tr>\n",
       "      <th>65</th>\n",
       "      <td>239.541</td>\n",
       "      <td>0.00238</td>\n",
       "      <td>0.01160</td>\n",
       "      <td>0</td>\n",
       "      <td>2.118596</td>\n",
       "      <td>0.091546</td>\n",
       "    </tr>\n",
       "    <tr>\n",
       "      <th>50</th>\n",
       "      <td>135.069</td>\n",
       "      <td>0.00431</td>\n",
       "      <td>0.01024</td>\n",
       "      <td>0</td>\n",
       "      <td>1.840198</td>\n",
       "      <td>0.103561</td>\n",
       "    </tr>\n",
       "    <tr>\n",
       "      <th>185</th>\n",
       "      <td>177.291</td>\n",
       "      <td>0.00314</td>\n",
       "      <td>0.00990</td>\n",
       "      <td>0</td>\n",
       "      <td>2.058658</td>\n",
       "      <td>0.214346</td>\n",
       "    </tr>\n",
       "    <tr>\n",
       "      <th>61</th>\n",
       "      <td>238.987</td>\n",
       "      <td>0.00264</td>\n",
       "      <td>0.01296</td>\n",
       "      <td>0</td>\n",
       "      <td>2.321560</td>\n",
       "      <td>0.098555</td>\n",
       "    </tr>\n",
       "  </tbody>\n",
       "</table>\n",
       "<p>247 rows × 6 columns</p>\n",
       "</div>"
      ]
     },
     "metadata": {},
     "execution_count": 98
    }
   ],
   "metadata": {}
  },
  {
   "cell_type": "code",
   "execution_count": 99,
   "source": [
    "x=park_df.drop(['MDVP:Fhi(Hz)','status'],axis=1)\r\n",
    "y=park_df['status']"
   ],
   "outputs": [],
   "metadata": {}
  },
  {
   "cell_type": "code",
   "execution_count": 100,
   "source": [
    "x"
   ],
   "outputs": [
    {
     "output_type": "execute_result",
     "data": {
      "text/plain": [
       "     MDVP:Jitter(%)  Shimmer:APQ5        D2       PPE\n",
       "0           0.00784       0.03130  2.301442  0.284654\n",
       "1           0.00968       0.04518  2.486855  0.368674\n",
       "2           0.01050       0.03858  2.342259  0.332634\n",
       "3           0.00997       0.04005  2.405554  0.368975\n",
       "4           0.01284       0.04825  2.332180  0.410335\n",
       "..              ...           ...       ...       ...\n",
       "45          0.00225       0.00879  2.365800  0.102706\n",
       "65          0.00238       0.01160  2.118596  0.091546\n",
       "50          0.00431       0.01024  1.840198  0.103561\n",
       "185         0.00314       0.00990  2.058658  0.214346\n",
       "61          0.00264       0.01296  2.321560  0.098555\n",
       "\n",
       "[247 rows x 4 columns]"
      ],
      "text/html": [
       "<div>\n",
       "<style scoped>\n",
       "    .dataframe tbody tr th:only-of-type {\n",
       "        vertical-align: middle;\n",
       "    }\n",
       "\n",
       "    .dataframe tbody tr th {\n",
       "        vertical-align: top;\n",
       "    }\n",
       "\n",
       "    .dataframe thead th {\n",
       "        text-align: right;\n",
       "    }\n",
       "</style>\n",
       "<table border=\"1\" class=\"dataframe\">\n",
       "  <thead>\n",
       "    <tr style=\"text-align: right;\">\n",
       "      <th></th>\n",
       "      <th>MDVP:Jitter(%)</th>\n",
       "      <th>Shimmer:APQ5</th>\n",
       "      <th>D2</th>\n",
       "      <th>PPE</th>\n",
       "    </tr>\n",
       "  </thead>\n",
       "  <tbody>\n",
       "    <tr>\n",
       "      <th>0</th>\n",
       "      <td>0.00784</td>\n",
       "      <td>0.03130</td>\n",
       "      <td>2.301442</td>\n",
       "      <td>0.284654</td>\n",
       "    </tr>\n",
       "    <tr>\n",
       "      <th>1</th>\n",
       "      <td>0.00968</td>\n",
       "      <td>0.04518</td>\n",
       "      <td>2.486855</td>\n",
       "      <td>0.368674</td>\n",
       "    </tr>\n",
       "    <tr>\n",
       "      <th>2</th>\n",
       "      <td>0.01050</td>\n",
       "      <td>0.03858</td>\n",
       "      <td>2.342259</td>\n",
       "      <td>0.332634</td>\n",
       "    </tr>\n",
       "    <tr>\n",
       "      <th>3</th>\n",
       "      <td>0.00997</td>\n",
       "      <td>0.04005</td>\n",
       "      <td>2.405554</td>\n",
       "      <td>0.368975</td>\n",
       "    </tr>\n",
       "    <tr>\n",
       "      <th>4</th>\n",
       "      <td>0.01284</td>\n",
       "      <td>0.04825</td>\n",
       "      <td>2.332180</td>\n",
       "      <td>0.410335</td>\n",
       "    </tr>\n",
       "    <tr>\n",
       "      <th>...</th>\n",
       "      <td>...</td>\n",
       "      <td>...</td>\n",
       "      <td>...</td>\n",
       "      <td>...</td>\n",
       "    </tr>\n",
       "    <tr>\n",
       "      <th>45</th>\n",
       "      <td>0.00225</td>\n",
       "      <td>0.00879</td>\n",
       "      <td>2.365800</td>\n",
       "      <td>0.102706</td>\n",
       "    </tr>\n",
       "    <tr>\n",
       "      <th>65</th>\n",
       "      <td>0.00238</td>\n",
       "      <td>0.01160</td>\n",
       "      <td>2.118596</td>\n",
       "      <td>0.091546</td>\n",
       "    </tr>\n",
       "    <tr>\n",
       "      <th>50</th>\n",
       "      <td>0.00431</td>\n",
       "      <td>0.01024</td>\n",
       "      <td>1.840198</td>\n",
       "      <td>0.103561</td>\n",
       "    </tr>\n",
       "    <tr>\n",
       "      <th>185</th>\n",
       "      <td>0.00314</td>\n",
       "      <td>0.00990</td>\n",
       "      <td>2.058658</td>\n",
       "      <td>0.214346</td>\n",
       "    </tr>\n",
       "    <tr>\n",
       "      <th>61</th>\n",
       "      <td>0.00264</td>\n",
       "      <td>0.01296</td>\n",
       "      <td>2.321560</td>\n",
       "      <td>0.098555</td>\n",
       "    </tr>\n",
       "  </tbody>\n",
       "</table>\n",
       "<p>247 rows × 4 columns</p>\n",
       "</div>"
      ]
     },
     "metadata": {},
     "execution_count": 100
    }
   ],
   "metadata": {}
  },
  {
   "cell_type": "code",
   "execution_count": 101,
   "source": [
    "from sklearn.preprocessing import MinMaxScaler\r\n",
    "scale=MinMaxScaler(feature_range=(0,1))\r\n",
    "x_scaled=scale.fit_transform(x)"
   ],
   "outputs": [],
   "metadata": {}
  },
  {
   "cell_type": "markdown",
   "source": [
    "# Algorithm Tuning"
   ],
   "metadata": {}
  },
  {
   "cell_type": "markdown",
   "source": [
    "**Finding the best suitable model**"
   ],
   "metadata": {}
  },
  {
   "cell_type": "code",
   "execution_count": 102,
   "source": [
    "from sklearn.model_selection import train_test_split\r\n",
    "from sklearn.linear_model import LogisticRegression\r\n",
    "from sklearn.ensemble import RandomForestClassifier\r\n",
    "maximum=0\r\n",
    "for i in range(0,12):\r\n",
    "    xtrain,xtest,ytrain,ytest=train_test_split(x_scaled,y,test_size=0.2,random_state=i)\r\n",
    "    bst_model=LogisticRegression(C=1e6,max_iter=1e9,random_state=0)\r\n",
    "    bst_model.fit(xtrain,ytrain)\r\n",
    "    ##print(bst_model.score(xtest,ytest),i)\r\n",
    "    if bst_model.score(xtest,ytest)>maximum:\r\n",
    "        maximum=bst_model.score(xtest,ytest)\r\n",
    "        max_iter=i\r\n",
    "print(max_iter,maximum)"
   ],
   "outputs": [
    {
     "output_type": "stream",
     "name": "stdout",
     "text": [
      "2 0.94\n"
     ]
    }
   ],
   "metadata": {}
  },
  {
   "cell_type": "code",
   "execution_count": 103,
   "source": [
    "xtrain,xtest,ytrain,ytest=train_test_split(x_scaled,y,test_size=0.2,random_state=2)\r\n",
    "park_model=LogisticRegression(C=1e6,max_iter=1e9,random_state=0)\r\n",
    "park_model.fit(xtrain,ytrain)"
   ],
   "outputs": [
    {
     "output_type": "execute_result",
     "data": {
      "text/plain": [
       "LogisticRegression(C=1000000.0, max_iter=1000000000.0, random_state=0)"
      ]
     },
     "metadata": {},
     "execution_count": 103
    }
   ],
   "metadata": {}
  },
  {
   "cell_type": "markdown",
   "source": [
    "# Classification Metrics for logistic Regression"
   ],
   "metadata": {}
  },
  {
   "cell_type": "code",
   "execution_count": 104,
   "source": [
    "from sklearn.metrics import classification_report,confusion_matrix\r\n",
    "predict=park_model.predict(xtest)\r\n",
    "confusion_matrix(ytest,predict)"
   ],
   "outputs": [
    {
     "output_type": "execute_result",
     "data": {
      "text/plain": [
       "array([[19,  0],\n",
       "       [ 3, 28]], dtype=int64)"
      ]
     },
     "metadata": {},
     "execution_count": 104
    }
   ],
   "metadata": {}
  },
  {
   "cell_type": "code",
   "execution_count": 105,
   "source": [
    "print(classification_report(ytest,predict))"
   ],
   "outputs": [
    {
     "output_type": "stream",
     "name": "stdout",
     "text": [
      "              precision    recall  f1-score   support\n",
      "\n",
      "           0       0.86      1.00      0.93        19\n",
      "           1       1.00      0.90      0.95        31\n",
      "\n",
      "    accuracy                           0.94        50\n",
      "   macro avg       0.93      0.95      0.94        50\n",
      "weighted avg       0.95      0.94      0.94        50\n",
      "\n"
     ]
    }
   ],
   "metadata": {}
  },
  {
   "cell_type": "markdown",
   "source": [
    "# Random Tree CLassifier"
   ],
   "metadata": {}
  },
  {
   "cell_type": "code",
   "execution_count": 113,
   "source": [
    "from sklearn.metrics import classification_report,confusion_matrix\r\n",
    "park_model2=RandomForestClassifier(bootstrap=True,n_estimators=100,random_state=2,criterion='entropy')\r\n",
    "park_model2.fit(xtrain,ytrain)\r\n",
    "park_model2.score(xtest,ytest)"
   ],
   "outputs": [
    {
     "output_type": "execute_result",
     "data": {
      "text/plain": [
       "0.98"
      ]
     },
     "metadata": {},
     "execution_count": 113
    }
   ],
   "metadata": {}
  },
  {
   "cell_type": "code",
   "execution_count": 107,
   "source": [
    "predict2=park_model2.predict(xtest)\r\n",
    "print(classification_report(ytest,predict2))"
   ],
   "outputs": [
    {
     "output_type": "stream",
     "name": "stdout",
     "text": [
      "              precision    recall  f1-score   support\n",
      "\n",
      "           0       0.95      1.00      0.97        19\n",
      "           1       1.00      0.97      0.98        31\n",
      "\n",
      "    accuracy                           0.98        50\n",
      "   macro avg       0.97      0.98      0.98        50\n",
      "weighted avg       0.98      0.98      0.98        50\n",
      "\n"
     ]
    }
   ],
   "metadata": {}
  },
  {
   "cell_type": "code",
   "execution_count": 108,
   "source": [
    "confusion_matrix(ytest,predict2)"
   ],
   "outputs": [
    {
     "output_type": "execute_result",
     "data": {
      "text/plain": [
       "array([[19,  0],\n",
       "       [ 1, 30]], dtype=int64)"
      ]
     },
     "metadata": {},
     "execution_count": 108
    }
   ],
   "metadata": {}
  }
 ],
 "metadata": {
  "orig_nbformat": 4,
  "language_info": {
   "name": "python",
   "version": "3.9.5",
   "mimetype": "text/x-python",
   "codemirror_mode": {
    "name": "ipython",
    "version": 3
   },
   "pygments_lexer": "ipython3",
   "nbconvert_exporter": "python",
   "file_extension": ".py"
  },
  "kernelspec": {
   "name": "python3",
   "display_name": "Python 3.9.5 64-bit (conda)"
  },
  "interpreter": {
   "hash": "8dce89ea0a1dabb18c453c51bd2b3026b7bacca71a7a950d5eeddd788c2a9563"
  }
 },
 "nbformat": 4,
 "nbformat_minor": 2
}